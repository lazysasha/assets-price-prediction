{
 "cells": [
  {
   "cell_type": "markdown",
   "source": [
    "[![Open In Colab](https://colab.research.google.com/assets/colab-badge.svg)](https://colab.research.google.com/github/lazysasha/assets-price-prediction/blob/main/workshop/basic_exercises.ipynb)"
   ],
   "metadata": {
    "collapsed": false
   }
  },
  {
   "cell_type": "code",
   "execution_count": null,
   "outputs": [],
   "source": [
    "import tensorflow as tf\n",
    "\n",
    "# Make sure we run on Tensowflow 2.0:\n",
    "print(tf.__version__)"
   ],
   "metadata": {
    "collapsed": false,
    "pycharm": {
     "name": "#%%\n"
    }
   }
  },
  {
   "cell_type": "markdown",
   "source": [
    "# Read and prepare dataset\n",
    "First, we start with defining helper functions to plot time series and reading data from csv:"
   ],
   "metadata": {
    "collapsed": false
   }
  },
  {
   "cell_type": "code",
   "execution_count": null,
   "outputs": [],
   "source": [
    "import csv\n",
    "from datetime import datetime, timedelta\n",
    "import numpy as np\n",
    "import matplotlib.pyplot as plt\n",
    "from tensorflow import keras\n",
    "\n",
    "def plot_series(time, series, format=\"-\", start=0, end=None, title=\"Asset price history\", legend=[]):\n",
    "    plt.plot(time[start:end], series[start:end], format)\n",
    "    plt.title(title)\n",
    "    plt.xlabel(\"Time\")\n",
    "    plt.ylabel(\"Value\")\n",
    "    plt.legend(legend)\n",
    "    plt.grid(True)\n",
    "\n",
    "def read_data(filepath='sample_data/BTC-USD.csv'):\n",
    "    DATE_FORMAT = \"%Y-%m-%d\"\n",
    "    time_step = []\n",
    "    prices = []\n",
    "    with open(filepath) as csvfile:\n",
    "        reader = csv.reader(csvfile, delimiter=',')\n",
    "        next(reader) # skip header\n",
    "        for row in reader:\n",
    "            # Exercise 1: Parse csv file with your data\n",
    "            ### START CODE HERE ### (≈ 3 lines of code)\n",
    "            if YOUR_CODE_HERE: # TODO: make sure we filter out the values that contain a 'null' string in 'Close' column (Yahoo Finance specifics).\n",
    "                time_step.append(YOUR_CODE_HERE)    # TODO: convert a string value from `Date` cell into a date object and append it to `time_step` array.\n",
    "                                                    # Hint: use datetime.strptime() to parse a string into a datetime using a custom format: https://www.programiz.com/python-programming/datetime/strptime\n",
    "                                                    # Hint: Use date() function to extract only a date part from the datetime object.\n",
    "                prices.append(YOUR_CODE_HERE)       # TODO: append a 'Close' price to the `prices` array. Hint: make sure it is converted to float.\n",
    "            ### END CODE HERE ###\n",
    "\n",
    "    ### START CODE HERE ### (≈ 1 line of code)\n",
    "    return # TODO: return a pair of `time_step` and `prices` arrays, each of them is wrapped into a numpy array. See https://numpy.org/doc/stable/user/basics.creation.html for reference\n",
    "    ### END CODE HERE ###\n",
    "\n",
    "### START CODE HERE ### (≈ 1 line of code)\n",
    "time, series = # TODO: call read_data() function with the path to your dataset as an argument\n",
    "### END CODE HERE ###\n",
    "\n",
    "plt.figure(figsize=(10, 6))\n",
    "plot_series(time, series)\n",
    "plt.show()\n",
    "\n",
    "# When implemented, you should see a price chart of your asset"
   ],
   "metadata": {
    "collapsed": false,
    "pycharm": {
     "name": "#%%\n"
    }
   }
  },
  {
   "cell_type": "markdown",
   "source": [
    "Now that we have the time series loaded in, let's split it into a training and validation set, so we can start forecasting:"
   ],
   "metadata": {
    "collapsed": false
   }
  },
  {
   "cell_type": "code",
   "execution_count": null,
   "outputs": [],
   "source": [
    "# Exercise 1: Split dataset into training and validation sets\n",
    "### START CODE HERE ### (≈ 5 lines of code)\n",
    "split_time =    # TODO: calculate the split index for 80% train/validation ratio of `time` array.\n",
    "                # For example: if there are 100 elements in 'time' array, the `split_time` should be set to 80.\n",
    "                # Hint: Use len(my_arr) function to get the length of an array. Make sure the result is converted to int.\n",
    "time_train =    # TODO: extract a subarray with first `split_time` elements from `time` array.\n",
    "                # Hint: Checkout numpy array slice notation: https://stackoverflow.com/questions/509211/understanding-slice-notation\n",
    "x_train =       # TODO: extract a subarray with first `split_time` elements from `series` array.\n",
    "time_valid =    # TODO: extract a subarray with the remaining elements after `split_time` from `time` array.\n",
    "x_valid =       # TODO: extract a subarray with the remaining elements after `split_time` from `series` array.\n",
    "### END CODE HERE ###\n",
    "\n",
    "# Plot training data:\n",
    "plt.figure(figsize=(10, 6))\n",
    "plot_series(time_train, x_train, title=\"Training set\")\n",
    "plt.show()\n",
    "\n",
    "# Plot validation data\n",
    "plt.figure(figsize=(10, 6))\n",
    "plot_series(time_valid, x_valid, title=\"Validation set\")\n",
    "plt.show()"
   ],
   "metadata": {
    "collapsed": false,
    "pycharm": {
     "name": "#%%\n"
    }
   }
  },
  {
   "cell_type": "markdown",
   "source": [
    "# Naive Forecast"
   ],
   "metadata": {
    "collapsed": false
   }
  },
  {
   "cell_type": "code",
   "execution_count": null,
   "outputs": [],
   "source": [
    "# Exercise 2: Implement Naive forecast\n",
    "# calculate the forecast based on the previous day\n",
    "### START CODE HERE ### (≈ 1 line of code)\n",
    "naive_forecast =    # TODO: 'calculate' the naive forecast based on a `series` array\n",
    "                    # Hint: It can be done just by slicing the `series` array from `split_time-1` until the end\n",
    "### END CODE HERE ###\n",
    "\n",
    "# Plot naive forecast vs. Actual data\n",
    "plt.figure(figsize=(10, 6))\n",
    "plot_series(time_valid, x_valid)\n",
    "plot_series(time_valid, naive_forecast, title=\"Naive prediction\", legend=[\"Actual\", \"Forecast\"])"
   ],
   "metadata": {
    "collapsed": false,
    "pycharm": {
     "name": "#%%\n"
    }
   }
  },
  {
   "cell_type": "markdown",
   "source": [
    "Let's zoom in on the start of the validation period:"
   ],
   "metadata": {
    "collapsed": false
   }
  },
  {
   "cell_type": "code",
   "execution_count": null,
   "outputs": [],
   "source": [
    "plt.figure(figsize=(10, 6))\n",
    "plot_series(time_valid, x_valid, start=0, end=50)\n",
    "plot_series(time_valid, naive_forecast, start=1, end=51, title=\"Naive prediction (zoomed in)\", legend=[\"Actual\", \"Forecast\"])"
   ],
   "metadata": {
    "collapsed": false,
    "pycharm": {
     "name": "#%%\n"
    }
   }
  },
  {
   "cell_type": "markdown",
   "source": [
    "You can see that the naive forecast lags 1 step behind the time series.\n",
    "\n",
    "Now let's compute the mean squared error and the mean absolute error between the forecasts and the predictions in the validation period:"
   ],
   "metadata": {
    "collapsed": false
   }
  },
  {
   "cell_type": "code",
   "execution_count": null,
   "outputs": [],
   "source": [
    "# Exercise 2: Implement Naive forecast (print MSE and MAE values)\n",
    "print(\"MSE:\")\n",
    "### START CODE HERE ### (≈ 1 line of code)\n",
    "print(YOUR_CODE_HERE)   # TODO: calculate mean squared error based on x_valid and naive_forecast and convert it into a numpy object\n",
    "                        # Hint: use `keras.metrics.mean_squared_error`\n",
    "                        # Hint: See example: https://www.tensorflow.org/api_docs/python/tf/keras/losses/MSE\n",
    "                        # Hint: use numpy() to convert a tensor metric into a numpy digit\n",
    "### END CODE HERE ###\n",
    "\n",
    "print(\"MAE:\")\n",
    "### START CODE HERE ### (≈ 1 line of code)\n",
    "print(YOUR_CODE_HERE)   # TODO: calculate mean absolute error based on x_valid and naive_forecast and convert it into a numpy object\n",
    "                        # Hint: use `keras.metrics.mean_absolute_error`\n",
    "                        # Hint: See example: https://www.tensorflow.org/api_docs/python/tf/keras/losses/MAE\n",
    "                        # Hint: use numpy() to convert a tensor metric into a numpy digit\n",
    "### END CODE HERE ###"
   ],
   "metadata": {
    "collapsed": false,
    "pycharm": {
     "name": "#%%\n"
    }
   }
  },
  {
   "cell_type": "markdown",
   "source": [
    "We will use the results of Naive implementation as our baseline to compare against other models."
   ],
   "metadata": {
    "collapsed": false
   }
  },
  {
   "cell_type": "markdown",
   "source": [
    "# Moving Average\n",
    "Now let's implement Moving Average. First, we define a function that will calculate moving average on a given time series:"
   ],
   "metadata": {
    "collapsed": false
   }
  },
  {
   "cell_type": "code",
   "execution_count": null,
   "outputs": [],
   "source": [
    "# Exercise 3: Implement Moving Average forecast\n",
    "def moving_average_forecast(series, window_size):\n",
    "    \"\"\"Forecasts the mean of the last few values.\n",
    "       If window_size=1, then this is equivalent to naive forecast\"\"\"\n",
    "    forecast = []\n",
    "    for time in range(len(series) - window_size):\n",
    "        ### START CODE HERE ### (≈ 2 lines of code)\n",
    "        forecast.append(YOUR_CODE_HERE) # TODO: calculate the mean of `series` subarray between `time` and `time + window_size` and append it to the forecast\n",
    "    return # TODO: return a `forecast` array wrapped into a numpy array. See https://numpy.org/doc/stable/user/basics.creation.html for reference\n",
    "    ### END CODE HERE ###\n"
   ],
   "metadata": {
    "collapsed": false,
    "pycharm": {
     "name": "#%%\n"
    }
   }
  },
  {
   "cell_type": "code",
   "execution_count": null,
   "outputs": [],
   "source": [
    "moving_avg = moving_average_forecast(series, 30)[split_time - 30:]\n",
    "\n",
    "plt.figure(figsize=(10, 6))\n",
    "plot_series(time_valid, x_valid)\n",
    "plot_series(time_valid, moving_avg)"
   ],
   "metadata": {
    "collapsed": false,
    "pycharm": {
     "name": "#%%\n"
    }
   }
  },
  {
   "cell_type": "markdown",
   "source": [
    "Let's print the performance metrics:"
   ],
   "metadata": {
    "collapsed": false
   }
  },
  {
   "cell_type": "code",
   "execution_count": null,
   "outputs": [],
   "source": [
    "print(\"MSE:\")\n",
    "# Exercise 3: Implement Moving Average forecast (print MAE and MSE values)\n",
    "### START CODE HERE ### (≈ 1 line of code)\n",
    "print(YOUR_CODE_HERE)   # TODO: calculate mean squared error based on x_valid and moving_avg and convert it into a numpy object\n",
    "                        # Hint: use `keras.metrics.mean_squared_error`\n",
    "                        # Hint: See example: https://www.tensorflow.org/api_docs/python/tf/keras/losses/MSE\n",
    "                        # Hint: use numpy() to convert a tensor metric into a numpy digit\n",
    "### END CODE HERE ###\n",
    "\n",
    "print(\"MAE:\")\n",
    "### START CODE HERE ### (≈ 1 line of code)\n",
    "print(YOUR_CODE_HERE)   # TODO: calculate mean absolute error based on x_valid and moving_avg and convert it into a numpy object\n",
    "                        # Hint: use `keras.metrics.mean_absolute_error`\n",
    "                        # Hint: See example: https://www.tensorflow.org/api_docs/python/tf/keras/losses/MAE\n",
    "                        # Hint: use numpy() to convert a tensor metric into a numpy digit\n",
    "### END CODE HERE ###"
   ],
   "metadata": {
    "collapsed": false,
    "pycharm": {
     "name": "#%%\n"
    }
   }
  }
 ],
 "metadata": {
  "kernelspec": {
   "display_name": "Python 3",
   "language": "python",
   "name": "python3"
  },
  "language_info": {
   "codemirror_mode": {
    "name": "ipython",
    "version": 2
   },
   "file_extension": ".py",
   "mimetype": "text/x-python",
   "name": "python",
   "nbconvert_exporter": "python",
   "pygments_lexer": "ipython2",
   "version": "2.7.6"
  }
 },
 "nbformat": 4,
 "nbformat_minor": 0
}